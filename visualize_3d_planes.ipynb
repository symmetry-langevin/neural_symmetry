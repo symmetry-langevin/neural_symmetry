{
  "cells": [
    {
      "cell_type": "code",
      "execution_count": null,
      "metadata": {
        "id": "ZAvORWPshXXa"
      },
      "outputs": [],
      "source": [
        "from sklearn.neighbors import KDTree\n",
        "import os\n",
        "import json\n",
        "import torch\n",
        "import trimesh\n",
        "import numpy as np\n",
        "import glob\n",
        "import pickle\n",
        "from tqdm import tqdm\n",
        "import jax.numpy as jnp"
      ]
    },
    {
      "cell_type": "code",
      "execution_count": null,
      "metadata": {
        "id": "hCe-Cz1A4Ddl"
      },
      "outputs": [],
      "source": [
        "### PASS IN LANGEVIN OUTPUT AND MESH###\n",
        "mode_path = '/content/mesh_1_0.1_10000_modes.pickle'\n",
        "with open(mode_path, 'rb') as f:\n",
        "    modes = pickle.load(f)\n",
        "\n",
        "mesh = trimesh.load('/content/mesh.obj') ## the mesh needs to be centered + normalized!\n",
        "\n",
        "\"\"\"\n",
        "mesh = trimesh.load('/content/cat4.off')\n",
        "mesh = o3d.io.read_triangle_mesh('/content/cat4.off')\n",
        "center_of_mass = mesh.get_center()\n",
        "mesh.translate(-center_of_mass)\n",
        "norms = np.linalg.norm(np.asarray(mesh.vertices), axis=1)\n",
        "mesh.scale(1/np.max(norms), center=(0,0,0))\n",
        "o3d.io.write_triangle_mesh('t.obj', mesh)\n",
        "\"\"\""
      ]
    },
    {
      "cell_type": "code",
      "execution_count": null,
      "metadata": {
        "id": "zpvPAuBc4Q4_"
      },
      "outputs": [],
      "source": [
        "def safe_norm(v, axis=None, eps=1e-6):\n",
        "    l = jnp.linalg.norm(v, axis=axis)\n",
        "    return jnp.where(l < eps, 0, l)\n",
        "#for clustering\n",
        "def dbscan(D, eps, MinPts):\n",
        "    labels = [0]*len(D)\n",
        "    C = 0\n",
        "    for P in range(0, len(D)):\n",
        "        if not (labels[P] == 0):\n",
        "           continue\n",
        "        NeighborPts = region_query(D, P, eps)\n",
        "        if len(NeighborPts) < MinPts:\n",
        "            labels[P] = -1\n",
        "        else:\n",
        "           C += 1\n",
        "           grow_cluster(D, labels, P, NeighborPts, C, eps, MinPts)\n",
        "    return labels\n",
        "\n",
        "def grow_cluster(D, labels, P, NeighborPts, C, eps, MinPts):\n",
        "    labels[P] = C\n",
        "    i = 0\n",
        "    while i < len(NeighborPts):\n",
        "        Pn = NeighborPts[i]\n",
        "        if labels[Pn] == -1:\n",
        "           labels[Pn] = C\n",
        "        elif labels[Pn] == 0:\n",
        "            labels[Pn] = C\n",
        "            PnNeighborPts = region_query(D, Pn, eps)\n",
        "            if len(PnNeighborPts) >= MinPts:\n",
        "                NeighborPts = NeighborPts + PnNeighborPts\n",
        "\n",
        "        i += 1\n",
        "\n",
        "def region_query(D, P, eps):\n",
        "    neighbors = []\n",
        "    for Pn in range(0, len(D)):\n",
        "        #if geodesic_dist(D[P], D[Pn])<eps:\n",
        "        if safe_norm(D[P] - D[Pn]) < eps:\n",
        "           neighbors.append(Pn)\n",
        "\n",
        "    return neighbors\n",
        "\n",
        "def compute_centroids(data, labels):\n",
        "    unique = np.unique(labels)\n",
        "    unique_labels = unique[unique!=-1]\n",
        "    centroids = []\n",
        "    for label in unique_labels:\n",
        "        mask = labels == label\n",
        "        points = data[mask]\n",
        "        centroid = jnp.mean(points, axis=0)\n",
        "        centroids.append(centroid)\n",
        "\n",
        "    return np.stack(centroids)\n",
        "\n",
        "def createPlane(normal, point_on_plane):\n",
        "    normal = normal / np.linalg.norm(normal)\n",
        "\n",
        "    # Find a vector in the plane\n",
        "    if np.allclose(normal, [1, 0, 0]):\n",
        "        v1 = np.cross(normal, [0, 1, 0])\n",
        "    else:\n",
        "        v1 = np.cross(normal, [1, 0, 0])\n",
        "\n",
        "    v1 = v1 / np.linalg.norm(v1)\n",
        "    v2 = np.cross(normal, v1)\n",
        "    v2 = v2 / np.linalg.norm(v2)\n",
        "\n",
        "    half_width = 1\n",
        "    half_height = 1\n",
        "\n",
        "    # Calculate the corners\n",
        "    corner1 = point_on_plane + half_width * v1 + half_height * v2\n",
        "    corner2 = point_on_plane - half_width * v1 + half_height * v2\n",
        "    corner3 = point_on_plane - half_width * v1 - half_height * v2\n",
        "    corner4 = point_on_plane + half_width * v1 - half_height * v2\n",
        "\n",
        "    vertices = np.array([corner1, corner2, corner3, corner4])\n",
        "\n",
        "    # Define the faces of the rectangle\n",
        "    faces = np.array([\n",
        "        [0, 1, 2],\n",
        "        [0, 2, 3],\n",
        "        [2, 1, 0],\n",
        "        [3, 2, 0]\n",
        "    ])\n",
        "\n",
        "    # Create a mesh for the rectangle\n",
        "    vc1 = np.tile([247, 247, 121, 100], (4, 1))\n",
        "\n",
        "    plane_mesh = trimesh.Trimesh(vertices=vertices, faces=faces,vertex_colors=vc1)\n",
        "\n",
        "    return plane_mesh\n",
        "\n",
        "def plot_plane(idx):\n",
        "    points = trimesh.PointCloud(mesh.vertices, colors = [0,191,255, 100])\n",
        "    plane = createPlane(n[idx], point[idx])\n",
        "    scene = trimesh.Scene([points, plane])\n",
        "    return scene\n"
      ]
    },
    {
      "cell_type": "code",
      "execution_count": null,
      "metadata": {
        "colab": {
          "base_uri": "https://localhost:8080/"
        },
        "id": "e1ssfm8n4DaJ",
        "outputId": "07bfacb1-f391-4d82-d168-c83f440edbbb"
      },
      "outputs": [
        {
          "output_type": "stream",
          "name": "stdout",
          "text": [
            "total number of modes found: 3\n"
          ]
        }
      ],
      "source": [
        "my_labels = dbscan(modes, eps=0.03, MinPts=3) #TODO:this has to be tuned!\n",
        "centroid = compute_centroids(modes, my_labels)\n",
        "centroids = np.array(centroid)\n",
        "print(\"total number of modes found: \" + str(len(centroids)))\n",
        "\n",
        "norm = torch.norm(torch.tensor(np.array(centroids)), dim=-1)\n",
        "n = centroids / norm[:,None]\n",
        "d = norm - 1\n",
        "point = n * d[...,None]"
      ]
    },
    {
      "cell_type": "code",
      "execution_count": null,
      "metadata": {
        "id": "Nj1FRSya4DWS"
      },
      "outputs": [],
      "source": [
        "###visualize planes###\n",
        "allplanes = []\n",
        "for i in range(len(n)):\n",
        "  pl = createPlane(n[i], point[i])\n",
        "  allplanes.append(pl)\n",
        "\n",
        "###only visualizing the first two planes for sanity check...###\n",
        "points = trimesh.PointCloud(mesh.vertices, colors = [0,191,255])\n",
        "plane1 = createPlane(n[0], point[0])\n",
        "plane2 = createPlane(n[1], point[1])\n",
        "mesh.visual.vertex_colors[np.arange(len(mesh.vertices))] = [220,220,220, 255]\n",
        "\n",
        "#scene = trimesh.Scene([points])\n",
        "scene = trimesh.Scene([mesh, plane1, plane2])\n",
        "scene.show()"
      ]
    }
  ],
  "metadata": {
    "accelerator": "GPU",
    "colab": {
      "gpuType": "T4",
      "provenance": []
    },
    "kernelspec": {
      "display_name": "Python 3",
      "name": "python3"
    },
    "language_info": {
      "name": "python"
    }
  },
  "nbformat": 4,
  "nbformat_minor": 0
}